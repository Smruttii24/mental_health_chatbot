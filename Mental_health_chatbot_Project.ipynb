{
  "nbformat": 4,
  "nbformat_minor": 0,
  "metadata": {
    "colab": {
      "provenance": [],
      "toc_visible": true
    },
    "kernelspec": {
      "name": "python3",
      "display_name": "Python 3"
    },
    "language_info": {
      "name": "python"
    }
  },
  "cells": [
    {
      "cell_type": "code",
      "execution_count": 11,
      "metadata": {
        "colab": {
          "base_uri": "https://localhost:8080/"
        },
        "id": "llVF0dWDu6bF",
        "outputId": "e9546570-8334-4522-d9df-d5045f3ace14"
      },
      "outputs": [
        {
          "output_type": "stream",
          "name": "stderr",
          "text": [
            "[nltk_data] Downloading package punkt to /root/nltk_data...\n",
            "[nltk_data]   Package punkt is already up-to-date!\n",
            "[nltk_data] Downloading package wordnet to /root/nltk_data...\n",
            "[nltk_data]   Package wordnet is already up-to-date!\n"
          ]
        },
        {
          "output_type": "execute_result",
          "data": {
            "text/plain": [
              "True"
            ]
          },
          "metadata": {},
          "execution_count": 11
        }
      ],
      "source": [
        "# import libraries\n",
        "\n",
        "# most common import and export format for spreadsheets and databases.\n",
        "import csv\n",
        "\n",
        "# The import random loads the random module, which contains a number of random number generation-related functions\n",
        "import random\n",
        "\n",
        "#Stemming is a technique used to reduce an inflected word down to its word stem.\n",
        "from nltk.stem import WordNetLemmatizer\n",
        "from nltk.tokenize import word_tokenize\n",
        "from sklearn.feature_extraction.text import TfidfVectorizer\n",
        "from sklearn.metrics.pairwise import cosine_similarity\n",
        "import nltk\n",
        "\n",
        "# PUNKT is an unsupervised trainable model, which means it can be trained on unlabeled data\n",
        "nltk.download('punkt')\n",
        "\n",
        "#WordNet is a part of Python's Natural Language Toolkit. It is a large word database of English Nouns, Adjectives, Adverbs and Verbs.\n",
        "nltk.download('wordnet')"
      ]
    },
    {
      "cell_type": "code",
      "source": [
        "# Load the mental health data from CSV file\n",
        "with open('/Mental_Health_FAQ.csv') as csvfile:\n",
        "    reader = csv.DictReader(csvfile)\n",
        "    mental_health_data = [(row['Questions'], row['Answers']) for row in reader]"
      ],
      "metadata": {
        "id": "oe21jpHkvFw5"
      },
      "execution_count": 12,
      "outputs": []
    },
    {
      "cell_type": "code",
      "source": [
        "# Initialize the WordNet lemmatizer\n",
        "lemmatizer = WordNetLemmatizer()"
      ],
      "metadata": {
        "id": "QRWNXpxavM0j"
      },
      "execution_count": 13,
      "outputs": []
    },
    {
      "cell_type": "code",
      "source": [
        "# Define the function to preprocess text data\n",
        "def preprocess(text):\n",
        "    tokens = word_tokenize(text.lower())\n",
        "    lemmatized_tokens = [lemmatizer.lemmatize(token) for token in tokens]\n",
        "    return ' '.join(lemmatized_tokens)"
      ],
      "metadata": {
        "id": "RjPRZCtCvPrs"
      },
      "execution_count": 14,
      "outputs": []
    },
    {
      "cell_type": "code",
      "source": [
        "# Preprocess the mental health data\n",
        "mental_health_data_preprocessed = [(preprocess(q), preprocess(r)) for q,r in mental_health_data]\n"
      ],
      "metadata": {
        "id": "SO_D2Js-vTaK"
      },
      "execution_count": 15,
      "outputs": []
    },
    {
      "cell_type": "code",
      "source": [
        "# Vectorize the mental health data\n",
        "vectorizer = TfidfVectorizer()\n",
        "mental_health_vectors = vectorizer.fit_transform([q for q,r in mental_health_data_preprocessed])"
      ],
      "metadata": {
        "id": "5M9F67lovW9-"
      },
      "execution_count": 16,
      "outputs": []
    },
    {
      "cell_type": "code",
      "source": [
        "from google.colab import drive\n",
        "drive.mount('/content/drive')"
      ],
      "metadata": {
        "colab": {
          "base_uri": "https://localhost:8080/"
        },
        "id": "IyLo8gsGfozN",
        "outputId": "cc3cfd02-c880-4379-bbe7-f229e6a8e8d8"
      },
      "execution_count": 17,
      "outputs": [
        {
          "output_type": "stream",
          "name": "stdout",
          "text": [
            "Mounted at /content/drive\n"
          ]
        }
      ]
    },
    {
      "cell_type": "code",
      "source": [
        "# Define the chatbot function\n",
        "def chatbot_response(query):\n",
        "    query_preprocessed = preprocess(query)\n",
        "    query_vector = vectorizer.transform([query_preprocessed])\n",
        "    similarities = cosine_similarity(query_vector, mental_health_vectors)\n",
        "    most_similar_index = similarities.argmax()\n",
        "    response = mental_health_data[most_similar_index][1]\n",
        "    return response"
      ],
      "metadata": {
        "id": "1soo5ihVvbBF"
      },
      "execution_count": 18,
      "outputs": []
    },
    {
      "cell_type": "code",
      "source": [
        "# Test the chatbot\n",
        "query = input(\"Write Your Question here!\")\n",
        "response = chatbot_response(query)\n",
        "print(\"Answers:\",response)"
      ],
      "metadata": {
        "colab": {
          "base_uri": "https://localhost:8080/"
        },
        "id": "9VJ3XZVSveTb",
        "outputId": "ea051455-1dc9-4ac2-be7f-344e12ae121b"
      },
      "execution_count": 19,
      "outputs": [
        {
          "output_type": "stream",
          "name": "stdout",
          "text": [
            "Write Your Question here!why do i feel low?\n",
            "Answers: There are a lot of things you can't control. You can't control what happens next, how governments respond, or how your neighbours react to the pandemic. What you can do is make a plan and decide how you'll manage the things you do control, like your ability to stay safe, follow public health measures, stay connected with loved ones, and take care of your mental and physical health. \n",
            " Events like a pandemic change a lot over time, and that uncertainty can add to fear and stress. The truth is that we don't know what will happen next—but that doesn't mean we're all helpless. You can do a lot. You can: \n",
            " Map out a daily schedule, including times you can connect with loved ones online or by phone \n",
            " Plan out daily tasks and goals \n",
            " Give yourself a schedule to look up current information \n",
            " Make sure you have 14 days of healthy food and household supplies at home \n",
            " Keep medications on hand and talk to your doctor for advice if you're at increased risk \n",
            " Educate yourself on public health measures and figure out how you'll follow those instructions \n",
            " Figure out how you'll manage increased childcare demands, working for home, or other changes to your usual routine \n",
            " Determine if you'll need financial supports like the Canada Emergency Response Benefit or BC Temporary Rent Supplement if your job is affected by COVID-19. If you anticipate a need, you can find application instructions and gather any documents or other pieces of information ahead of time \n",
            " Figure out how you'll manage times when you feel overwhelmed or hopeless, like calming activities, the number for a local support or crisis line, a video chat with a loved one, or a way to connect with your mental health care provider \n",
            " Look for local support organizations, neighbourhood groups, or mutual aid groups if you need extra help or support or would like to help others in your community \n",
            " Some planning will be straightforward, but you may also encounter situations or times when it's harder to see a solution or good plan of action. This is a great time to practice problem-solving skills. Problem-solving is a method that helps you break down a complicated situation into manageable pieces, look for realistic and unbiased information, brainstorm possible solutions, and test the solutions that you think might work well. Problem-solving is a helpful skill no matter what else is going on in the world, and it's an empowering, methodical approach when you might otherwise feel overwhelmed or lost. \n",
            " Check out the following resources for more information about problem-solving: \n",
            " Wellness Module 4: Problem-Solving: www.heretohelp.bc.ca/wellness-module/wellness-module-4-problem-solving \n",
            " Problem-solving worksheet from Anxiety Canada: www.anxietycanada.com/sites/default/files/ProblemSolving.pdf \n",
            " Effective Problem-Solving in The Antidepressant Skills Workbook: psychhealthandsafety.org/asw\n"
          ]
        }
      ]
    }
  ]
}